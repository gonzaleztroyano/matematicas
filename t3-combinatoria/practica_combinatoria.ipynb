{
  "nbformat": 4,
  "nbformat_minor": 0,
  "metadata": {
    "colab": {
      "provenance": [],
      "include_colab_link": true
    },
    "kernelspec": {
      "name": "python3",
      "display_name": "Python 3"
    },
    "language_info": {
      "name": "python"
    }
  },
  "cells": [
    {
      "cell_type": "markdown",
      "metadata": {
        "id": "view-in-github",
        "colab_type": "text"
      },
      "source": [
        "<a href=\"https://colab.research.google.com/github/gonzaleztroyano/matematicas/blob/main/t3-combinatoria/practica_combinatoria.ipynb\" target=\"_parent\"><img src=\"https://colab.research.google.com/assets/colab-badge.svg\" alt=\"Open In Colab\"/></a>"
      ]
    },
    {
      "cell_type": "markdown",
      "source": [
        "# Práctica 1. Combinatoria\n",
        "Resuelva los siguientes apartados de la práctica.  \n",
        "La práctica 1.1 se proporciona solucionada para que pueda servir como ejemplo.\n"
      ],
      "metadata": {
        "id": "VP-PLgSCPtPC"
      }
    },
    {
      "cell_type": "markdown",
      "source": [
        "## Práctica 1.1\n"
      ],
      "metadata": {
        "id": "6oyoxqfbQJDC"
      }
    },
    {
      "cell_type": "markdown",
      "source": [
        "Cuatro amigos:\n",
        "* Antonio (A)\n",
        "* Begoña (B)\n",
        "* Cesar (C)\n",
        "* Diana (D)\n",
        "\n",
        "constituyen una asociación y tienen que asignar los siguientes cargos:\n",
        "* Presiente (1)\n",
        "* Vicepresidente (2)\n",
        "* Secretario (3)\n",
        "* Tesorero (4)\n",
        "\n",
        "Se pide:\n",
        "1. Escribiendo la solución en una celda de Markdown analice el caso indicando si se trata de variaciones, permutaciones o combinaciones, con o sin repetición o el caso que sea, y el motivo para clasificar el caso de esta forma.\n",
        "2. Utilizando fórmulas de $\\LaTeX$ calcule cuántos casos existen.\n",
        "3. Cree un programa en Python para calcule cuántos casos existen.\n",
        "4. Cree un programa en Python para imprimir todas las posibilidades y numérelas. Por ejemplo:\n",
        "    - 1 ABCD\n",
        "    - 2 ABDC\n",
        "    - 3 ACBD\n",
        "    - ... ... ..."
      ],
      "metadata": {
        "id": "nyFIEM8Qjokz"
      }
    },
    {
      "cell_type": "markdown",
      "source": [
        "### Solución 1.1\n",
        "* Estamos ante un caso de **permutaciones sin repetición** ya que:\n",
        " - El orden importa, no es lo mismo estar el nº1 que significa ser presidente que el nº 4 que corresponde al tesorero.\n",
        " - Intervienen todos. Son 4 amigos para 4 cargos, todos tienen cargo, lo que cambiar es el orden, esto es, el cargo que obtengan.\n",
        " - No se repiten elementos. Una persona no puede tener dos cargos simultaneamente.\n",
        "* Los casos que se obtienen con las permutaciones sin repetición son $P_{n}=n!$ que para este ejemplo son:\n",
        "\n",
        "$$P_{4}=4!=4 \\cdot 3 \\cdot 2 \\cdot 1 = 24$$"
      ],
      "metadata": {
        "id": "t5unIqR7jdZR"
      }
    },
    {
      "cell_type": "code",
      "source": [
        "import math\n",
        "p = math.factorial(4)\n",
        "print(\"Los casos son: \", p)\n",
        "print(\"Comprobación:  \", 4*3*2*1)"
      ],
      "metadata": {
        "id": "va3_l_-hmFS-",
        "outputId": "12c80766-3549-46df-80f3-cf3c2783ba73",
        "colab": {
          "base_uri": "https://localhost:8080/"
        }
      },
      "execution_count": null,
      "outputs": [
        {
          "output_type": "stream",
          "name": "stdout",
          "text": [
            "Los casos son:  24\n",
            "Comprobación:   24\n"
          ]
        }
      ]
    },
    {
      "cell_type": "markdown",
      "source": [
        "#### Método 1\n",
        "Sin usar librería."
      ],
      "metadata": {
        "id": "kOM3pEAGnh8v"
      }
    },
    {
      "cell_type": "code",
      "source": [
        "lista = ['A', 'B', 'C', 'D']\n",
        "contador = 1\n",
        "\n",
        "for i in lista:\n",
        "    for j in lista:\n",
        "        for k in lista:\n",
        "            for l in lista:\n",
        "                if i != j and i != k and i != l and j != k and j != l and k != l:\n",
        "                    print(f\"{contador:2d} →  {i+j+k+l}\")\n",
        "                    contador += 1"
      ],
      "metadata": {
        "id": "5--ZpSoJncj3"
      },
      "execution_count": null,
      "outputs": []
    },
    {
      "cell_type": "markdown",
      "source": [
        "#### Método 2\n",
        "* Usamos la función `permutations` de la librería `intertools`.\n",
        "* Imprimimos todas las permutaciones de los elementos de una lista."
      ],
      "metadata": {
        "id": "2PoCD5GlnwS1"
      }
    },
    {
      "cell_type": "code",
      "source": [
        "from itertools import permutations\n",
        "\n",
        "perm = permutations(['A','B','C','D'])   # obtenemos todas las permutaciones de la lista \n",
        "\n",
        "for i in list(perm):                     # imprimimos todas las permutaciones \n",
        "    print (*i)                           # con el asterisco se muestran las listas sin corchetes ni comas"
      ],
      "metadata": {
        "id": "eKkB1gQnn6_P"
      },
      "execution_count": null,
      "outputs": []
    },
    {
      "cell_type": "markdown",
      "source": [
        "### Práctica 1.2\n"
      ],
      "metadata": {
        "id": "sxSuCpAFSBPJ"
      }
    },
    {
      "cell_type": "markdown",
      "source": [
        "Cuatro amigos:\n",
        "* Antonio (A)\n",
        "* Begoña (B)\n",
        "* Cesar (C)\n",
        "* Diana (D)\n",
        "\n",
        "constituyen una asociación y tienen que asignar los siguientes cargos:\n",
        "* Presiente (1)\n",
        "* Secretario (3)\n",
        "* Tesorero (4)\n",
        "\n",
        "Se pide:\n",
        "1. Escribiendo la solución en una celda de Markdown analice el caso indicando si se trata de variaciones, permutaciones o combinaciones, con o sin repetición o el caso que sea, y el motivo para clasificar el caso de esta forma.\n",
        "2. Utilizando fórmulas de $\\LaTeX$ calcule cuántos casos existen.\n",
        "3. Cree un programa en Python para calcule cuántos casos existen.\n",
        "4. Cree un programa en Python para imprimir todas las posibilidades y numérelas. Por ejemplo:\n",
        "    - 1 ABC\n",
        "    - 2 ABD\n",
        "    - 3 ACB\n",
        "    - ... ... ..."
      ],
      "metadata": {
        "id": "V4VnaT9Ljefh"
      }
    },
    {
      "cell_type": "markdown",
      "source": [
        "##### Análisis\n",
        "Estamos ante un caso de variaciones sin repetición:\n",
        "\n",
        "*   No todos los amigos tendrán cargo (k<3).\n",
        "*   Sí importa el orden, pues no es lo mismo ser presidente que tesorero\n",
        "*   No se repiten, pues no es psoible tener dos cargos. \n",
        "\n",
        "##### LaTeX\n",
        "\n",
        "$$\n",
        "V_n, _k = n * (n-1) ... (n-k+1) = \\frac{n!}{(n-k)!} = \\frac{4!}{(4-3)!} = 24\n",
        "$$\n",
        "\n"
      ],
      "metadata": {
        "id": "w7M0HBzOMTA7"
      }
    },
    {
      "cell_type": "markdown",
      "source": [
        "#### Solución 1.2"
      ],
      "metadata": {
        "id": "xx9qsw_ej9Pd"
      }
    },
    {
      "cell_type": "code",
      "source": [
        "import itertools\n",
        "\n",
        "t = ['A','B','C','D']\n",
        "c = set(itertools.permutations(t, 3))\n",
        "count = 0\n",
        "for i in c:\n",
        "  count += 1\n",
        "  print (count, \": \", i)\n",
        "\n",
        "print(\"total: \", count)"
      ],
      "metadata": {
        "id": "HDCxrgPiPjwL"
      },
      "execution_count": null,
      "outputs": []
    },
    {
      "cell_type": "markdown",
      "source": [
        "## Práctica 1.3\n",
        "Invente un caso de **variaciones sin repetición**.\n",
        "Se pide contestar a los mismos puntos que el caso anterior."
      ],
      "metadata": {
        "id": "D0S1DjF4MKmz"
      }
    },
    {
      "cell_type": "markdown",
      "source": [
        "Durante la realización de un concurso, se otorgarán 3 medallas. Si participan 8 concursantes. ¿De cuántas formas podrán repartirse las medallas?\n",
        "\n",
        "##### LaTeX\n",
        "\n",
        "$$\n",
        "V_n, _k = n * (n-1) ... (n-k+1) = \\frac{n!}{(n-k)!} = \\frac{8!}{(8-3)!} = 336\n",
        "$$\n"
      ],
      "metadata": {
        "id": "0ZP2amAUTpQV"
      }
    },
    {
      "cell_type": "markdown",
      "source": [
        "### Solución 1.3"
      ],
      "metadata": {
        "id": "AfyuPIASj_20"
      }
    },
    {
      "cell_type": "code",
      "source": [
        "import itertools\n",
        "\n",
        "t = ['J1','J2','J3','J4','J5','J6','J7','J8']\n",
        "c = set(itertools.permutations(t, 3))\n",
        "count = 0\n",
        "for i in c:\n",
        "  count += 1\n",
        "  print (count, \": \", i)\n",
        "\n",
        "print(\"total: \", count)"
      ],
      "metadata": {
        "id": "NR5mXGAQVEo4"
      },
      "execution_count": null,
      "outputs": []
    },
    {
      "cell_type": "markdown",
      "source": [
        "## Práctica 1.4\n",
        "Invente un caso de **variaciones con repetición**.\n",
        "Se pide contestar a los mismos puntos que el caso anterior."
      ],
      "metadata": {
        "id": "gvlnqCaRMTua"
      }
    },
    {
      "cell_type": "markdown",
      "source": [
        "Las matrículas utilizan el conjunto de las letras (excluyendo A, CH, E, I, Ñ, O, Q y U) para formar la parte de las letras. ¿Cuántas variaciones diferentes se pueden formar?"
      ],
      "metadata": {
        "id": "RFF--fB2gcMw"
      }
    },
    {
      "cell_type": "code",
      "source": [
        "# Para generar la lista con el abecedario:\n",
        "import string\n",
        "def listAlphabet():\n",
        "  return list(string.ascii_uppercase)\n",
        "print(listAlphabet())"
      ],
      "metadata": {
        "id": "RPAIqTzcgqYQ",
        "outputId": "031e934a-e8bc-4be0-a35a-92f7e8109dd0",
        "colab": {
          "base_uri": "https://localhost:8080/"
        }
      },
      "execution_count": null,
      "outputs": [
        {
          "output_type": "stream",
          "name": "stdout",
          "text": [
            "['A', 'B', 'C', 'D', 'E', 'F', 'G', 'H', 'I', 'J', 'K', 'L', 'M', 'N', 'O', 'P', 'Q', 'R', 'S', 'T', 'U', 'V', 'W', 'X', 'Y', 'Z']\n"
          ]
        }
      ]
    },
    {
      "cell_type": "code",
      "source": [
        "# Para ver cuántas letras nos quedan para calcular\n",
        "letras = list(['B', 'C', 'D', 'F', 'G', 'H', 'J', 'K', 'L', 'M', 'N', 'P', 'R', 'S', 'T', 'V', 'W', 'X', 'Y', 'Z'])\n",
        "print (len(letras))"
      ],
      "metadata": {
        "id": "jOj66hVWhKK6",
        "outputId": "8b688232-4914-4478-e3f2-81393f03e863",
        "colab": {
          "base_uri": "https://localhost:8080/"
        }
      },
      "execution_count": null,
      "outputs": [
        {
          "output_type": "stream",
          "name": "stdout",
          "text": [
            "20\n"
          ]
        }
      ]
    },
    {
      "cell_type": "markdown",
      "source": [
        "Para calcularlo usamos la fórmula:\n",
        "$$\n",
        "VR_n,_k = n^k = 20^3 = 8000\n",
        "$$"
      ],
      "metadata": {
        "id": "ETysNyeChwkc"
      }
    },
    {
      "cell_type": "markdown",
      "source": [
        "### Solución 1.4"
      ],
      "metadata": {
        "id": "hzvsgRDbkCy1"
      }
    },
    {
      "cell_type": "code",
      "source": [
        "import itertools\n",
        "\n",
        "letras = list(['B', 'C', 'D', 'F', 'G', 'H', 'J', 'K', 'L', 'M', 'N', 'P', 'R', 'S', 'T', 'V', 'W', 'X', 'Y', 'Z'])\n",
        "\n",
        "variations = itertools.product(letras, repeat=3)\n",
        "\n",
        "cuenta = 1\n",
        "for i in variations:\n",
        " print(cuenta,\" : \",i) \n",
        " cuenta += 1"
      ],
      "metadata": {
        "id": "GNIfCVYBiG0C"
      },
      "execution_count": null,
      "outputs": []
    },
    {
      "cell_type": "markdown",
      "source": [
        "## Práctica 1.5\n",
        "Invente un caso de **permutaciones sin repetición**.\n",
        "Se pide contestar a los mismos puntos que el caso anterior."
      ],
      "metadata": {
        "id": "0OCAC-I-G5F6"
      }
    },
    {
      "cell_type": "markdown",
      "source": [
        "De cuántas formas se pueden posicionar el Presidente, los Ministros y Ministras del actual Gobierno de España en un _photocall_. Existen 22 ministerios y un Presidente.\n",
        "\n",
        "$$\n",
        "P_n = V_n, _n = n!\n",
        "$$"
      ],
      "metadata": {
        "id": "jc2jvt6NlOSO"
      }
    },
    {
      "cell_type": "markdown",
      "source": [
        "### Solución 1.5"
      ],
      "metadata": {
        "id": "FvLcj6XXkFOV"
      }
    },
    {
      "cell_type": "code",
      "source": [
        "import math\n",
        "p = math.factorial(23)\n",
        "print(\"Total posibilidades:\",p)"
      ],
      "metadata": {
        "id": "R5I_YJIGmEaC"
      },
      "execution_count": null,
      "outputs": []
    },
    {
      "cell_type": "markdown",
      "source": [
        "## Práctica 1.6\n",
        "Invente un caso de **permutaciones con repetición**.\n",
        "Se pide contestar a los mismos puntos que el caso anterior."
      ],
      "metadata": {
        "id": "YWUXIczqLj3W"
      }
    },
    {
      "cell_type": "markdown",
      "source": [
        "Cuántas palabras, con sentido o no, se pueden formar usando las letras de la palabra \"PATATA\"?\n",
        "\n",
        "$$\n",
        "P_n^k = \\frac{n!}{k_1! * k_2! * \\text{ ... } k_n!} = \\frac{6!}{3! * 2! * 1!} = 60\n",
        "$$"
      ],
      "metadata": {
        "id": "EUZ24TQzfUjb"
      }
    },
    {
      "cell_type": "markdown",
      "source": [
        "### Solución 1.6"
      ],
      "metadata": {
        "id": "siAxWVVekHs6"
      }
    },
    {
      "cell_type": "code",
      "source": [
        "import itertools\n",
        "\n",
        "letras = list(['P','A','T','A','T','A'])\n",
        "\n",
        "permutations = itertools.permutations(letras, 6)\n",
        "\n",
        "cuenta = 1\n",
        "for i in permutations:\n",
        " print(cuenta,\" : \",i) \n",
        " cuenta += 1\n",
        " ## Se muestran palabras repetidas"
      ],
      "metadata": {
        "id": "RUIstOvRnvBM"
      },
      "execution_count": null,
      "outputs": []
    },
    {
      "cell_type": "markdown",
      "source": [
        "## Práctica 1.7\n",
        "Invente un caso de **combinaciones sin repetición**.\n",
        "Se pide contestar a los mismos puntos que el caso anterior."
      ],
      "metadata": {
        "id": "opCrIDtJGg1R"
      }
    },
    {
      "cell_type": "markdown",
      "source": [
        "La [primitiva](https://es.wikipedia.org/wiki/Loter%C3%ADa_Primitiva_de_Espa%C3%B1a) consiste en consiste en elegir 6 números diferentes entre 1 y 49. ¿Cuántas posibles combinaciones existen \n",
        "\n",
        "$$\n",
        "C_n,_k = (_k^n) =  \\frac{n!}{k! * (n-k)!} = \\frac{49!}{6! * (49-6)!} = 13983816\n",
        "$$"
      ],
      "metadata": {
        "id": "7vqEg93AshSm"
      }
    },
    {
      "cell_type": "markdown",
      "source": [
        "### Solución 1.7"
      ],
      "metadata": {
        "id": "Zs46BsRnkJcl"
      }
    },
    {
      "cell_type": "code",
      "source": [
        "import itertools\n",
        "\n",
        "res = itertools.combinations(range(1, 50, 1), 6)\n",
        "\n",
        "cuenta = 1\n",
        "for i in res:\n",
        " print(cuenta,\" : \",i) \n",
        " cuenta += 1"
      ],
      "metadata": {
        "id": "qpaLmuBotRlw"
      },
      "execution_count": null,
      "outputs": []
    },
    {
      "cell_type": "markdown",
      "source": [
        "## Práctica 1.8\n",
        "Invente un caso de **combinaciones con repetición**.\n",
        "Se pide contestar a los mismos puntos que el caso anterior."
      ],
      "metadata": {
        "id": "-7Y5WWlDGzAR"
      }
    },
    {
      "cell_type": "markdown",
      "source": [
        "¿De cuántas maneras se puede repartir 10 caramelos a 4 niños?\n",
        "\n",
        "$$\n",
        "𝐶𝑅𝑛,𝑘 = [_k^n] = (^{n + k− 1} _𝑘) = \\frac{(10+4-1)!}{4! (10-1)!} = 286\n",
        "$$"
      ],
      "metadata": {
        "id": "Vh4yJbHbvTav"
      }
    },
    {
      "cell_type": "markdown",
      "source": [
        "### Solución 1.8"
      ],
      "metadata": {
        "id": "ReRULqd8kL1F"
      }
    },
    {
      "cell_type": "code",
      "source": [
        "import itertools\n",
        "\n",
        "letras = list(['A','B','C','D'])\n",
        "\n",
        "permutations = itertools.combinations_with_replacement(letras, r=10)\n",
        "\n",
        "cuenta = 1\n",
        "for i in permutations:\n",
        " print(cuenta,\" : \",i) \n",
        " cuenta += 1"
      ],
      "metadata": {
        "id": "PgwASf-Uw86E"
      },
      "execution_count": null,
      "outputs": []
    },
    {
      "cell_type": "markdown",
      "source": [
        "## Práctica 1.9\n",
        "En el gobierno se crea una unidad de crisis formada por el presidente (P) y 4 ministros (A,B,C,D) que se reúnen sentados alrededor de una **mesa redonda**.\n",
        "\n",
        "Se pide:  \n",
        "1. Calcule de cuantas formas pueden llegar a sentarse si el ministro de defensa (D) siempre ha de estar al lado del presidente (P). Escriba la solución en una celda de Markdown utilizando fórmulas en $\\LaTeX$  explicando el caso.\n",
        "2. Cree un programa en Python para calcular el número de casos que se pueden dar al sentarse en la mesa.\n",
        "3. Cree un programa en Python para imprimir todas las posibilidades y numérelas. Por ejemplo:\n",
        "    - 1 PABCD\n",
        "    - 2 PDABC\n",
        "    - 3 PACBD\n",
        "    - ... ... ...\n"
      ],
      "metadata": {
        "id": "SOzxh_YgHnDG"
      }
    },
    {
      "cell_type": "markdown",
      "source": [
        "### Solución 1.9"
      ],
      "metadata": {
        "id": "F8kV034OkQZX"
      }
    },
    {
      "cell_type": "markdown",
      "source": [
        "$$\n",
        "PC_n = P_{n-1} = (n-1)! = 6 \\text{  // x2 = } 12 \n",
        "$$"
      ],
      "metadata": {
        "id": "gpbaq1Sh0aEV"
      }
    },
    {
      "cell_type": "code",
      "source": [
        "from itertools import permutations\n",
        "\n",
        "p = list(permutations('ABC'))   # lista de permutaciones de 3 elementos\n",
        "texto = '' \n",
        "\n",
        "for v in p:\n",
        "    texto += 'PD' + ''.join(v) + ','  \n",
        "\n",
        "for v in p:\n",
        "    texto += 'DP' + ''.join(v) + ','\n",
        "\n",
        "print(texto[:-1])\n",
        "\n"
      ],
      "metadata": {
        "colab": {
          "base_uri": "https://localhost:8080/"
        },
        "id": "ZQPXL05Iz01S",
        "outputId": "e0ff4d62-b484-4a08-d0cb-c3d1ff28c692"
      },
      "execution_count": 22,
      "outputs": [
        {
          "output_type": "stream",
          "name": "stdout",
          "text": [
            "PDABC,PDACB,PDBAC,PDBCA,PDCAB,PDCBA,DPABC,DPACB,DPBAC,DPBCA,DPCAB,DPCBA\n"
          ]
        }
      ]
    },
    {
      "cell_type": "markdown",
      "source": [
        "## Práctica 10\n",
        "* Realice una breve explicación teórica del **triángulo de Pascal**, o también llamado triángulo de Tartaglia, y de las fórmulas de los números combinatorios.\n",
        "* Cree un programa en Python para hacer triángulo de Pascal."
      ],
      "metadata": {
        "id": "eiHdMOP-MkrZ"
      }
    },
    {
      "cell_type": "markdown",
      "source": [
        "### Solución 1.10"
      ],
      "metadata": {
        "id": "j0UT2579kTSM"
      }
    },
    {
      "cell_type": "markdown",
      "source": [
        "El triángulo de pascal representa de forma ordenada el número de posibles combinaciones entre dos números."
      ],
      "metadata": {
        "id": "ZZ8rZw3I4rru"
      }
    },
    {
      "cell_type": "code",
      "source": [
        "#@title Calcular pascal\n",
        "import math\n",
        "\n",
        "limit = 5 #@param {type:\"number\"}\n",
        "\n",
        "for i in range(limit):\n",
        "    for j in range(limit-i+1):\n",
        "         print(end=\" \")\n",
        " \n",
        "    for j in range(i+1):\n",
        "        print(math.factorial(i)//(math.factorial(j)*math.factorial(i-j)), end=\" \")\n",
        "\n",
        "    print()"
      ],
      "metadata": {
        "colab": {
          "base_uri": "https://localhost:8080/"
        },
        "id": "W1VjHJeC31La",
        "outputId": "9f54bcf8-317c-4ccb-b9c3-8b99e1493ce4"
      },
      "execution_count": 25,
      "outputs": [
        {
          "output_type": "stream",
          "name": "stdout",
          "text": [
            "      1 \n",
            "     1 1 \n",
            "    1 2 1 \n",
            "   1 3 3 1 \n",
            "  1 4 6 4 1 \n"
          ]
        }
      ]
    }
  ]
}
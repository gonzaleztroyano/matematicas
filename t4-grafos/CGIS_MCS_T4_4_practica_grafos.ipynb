{
  "nbformat": 4,
  "nbformat_minor": 0,
  "metadata": {
    "colab": {
      "provenance": [],
      "collapsed_sections": [],
      "include_colab_link": true
    },
    "kernelspec": {
      "name": "python3",
      "display_name": "Python 3"
    },
    "language_info": {
      "name": "python"
    }
  },
  "cells": [
    {
      "cell_type": "markdown",
      "metadata": {
        "id": "view-in-github",
        "colab_type": "text"
      },
      "source": [
        "<a href=\"https://colab.research.google.com/github/gonzaleztroyano/matematicas/blob/main/t4-grafos/CGIS_MCS_T4_4_practica_grafos.ipynb\" target=\"_parent\"><img src=\"https://colab.research.google.com/assets/colab-badge.svg\" alt=\"Open In Colab\"/></a>"
      ]
    },
    {
      "cell_type": "markdown",
      "source": [
        "# Práctica 2. Grafos"
      ],
      "metadata": {
        "id": "s28_pETXts4V"
      }
    },
    {
      "cell_type": "markdown",
      "source": [
        "## Práctica 2.1"
      ],
      "metadata": {
        "id": "6Gr8mAWDxCdq"
      }
    },
    {
      "cell_type": "markdown",
      "source": [
        "**Algoritmo de Dijkstra**\n",
        "\n",
        "1. Mira estos vídeos:\n",
        " * [Algoritmo de DIJKSTRA ruta corta](https://youtu.be/6rl0ghgPfK0)\n",
        " * [Ruta mas corta en una red, algoritmo de Dijkstra](https://youtu.be/rh02c7v3EKY)\n",
        "2. ¿Qué utilidad tiene el algoritmo?\n",
        "3. Explique el algoritmo.\n",
        "4. De un ejemplo de un grafo resuelto con el algoritmo de Dijkstra.\n",
        "* Muestre la imagen del grafo con sus:\n",
        "  - nodos\n",
        "  - aristas (con flecha si son orientadas)\n",
        "  - pesos (distancias o costes)\n",
        "* Muestre nuevamente la imagen del grafo pero en esta ocasión con la solución."
      ],
      "metadata": {
        "id": "pQu9tdMwosUN"
      }
    },
    {
      "cell_type": "markdown",
      "source": [
        "### Práctica 2.1 - Resolución\n",
        "1. Vídeos reproducidos. También me ha ayudado visualizar [este otro vídeo](https://www.youtube.com/watch?v=w475Vm1ZgTk).\n",
        "2. El algoritmo de Dijkstra permite calcular la distancia entre dos puntos de un grafo. \n",
        "\n",
        "3. El algoritmo funciona \"probando\" las posibilidades desde el punto de origen y sumando los costes/pesos de los distintos caminos/aristas que conectan los vértices/puntos. En el proceso el algoritmo fija los vértices para los que ya ha encontrado una ruta y continua recorriendo aquellos para los que no tiene peso. Al hacerlo sobre papel debemos ir anotando la distancia que suma la ruta hacia el nodo en estudio, cuál es el nodo previo que hemos recorrido y en qué iteración estamos. \n",
        "\n",
        "4. Ejemplo de grafo resuelto mediante algoritmo de Dijkstra\n",
        " * Imagen del grafo:\n",
        "    ![Imagen del Grafo](https://github.com/gonzaleztroyano/matematicas/raw/main/t4-grafos/CGIS.MCS.T4.6.Dijkstra.jpg)\n",
        "  * Imagen del grafo **resuelto**:\n",
        "      ![Imagen del Grafo Resuelto](https://github.com/gonzaleztroyano/matematicas/raw/main/t4-grafos/CGIS.MCS.T4.7.DijkstraResuelto.jpg)"
      ],
      "metadata": {
        "id": "DcF88AdCTfeQ"
      }
    },
    {
      "cell_type": "markdown",
      "source": [
        "## Práctica 2.2"
      ],
      "metadata": {
        "id": "In4IULDcx1Az"
      }
    },
    {
      "cell_type": "markdown",
      "source": [
        "Vea el video:\n",
        "\n",
        "* [Camino mas corto Solver](https://youtu.be/LYeMWlTfOgA)\n",
        "\n",
        "Se pide:  \n",
        "1. Replique en un archivo de Excel el caso del vídeo, en la Hoja 1. En el método de resolución de Solver elija el método Simplex.\n",
        "2. En la Hoja 2, aplique esa metodología usando Solver a otro grafo de su invención. Dibuje el grafo, con sus nodos, flechas y pesos, y resuélvalo.\n",
        "3. Suba el archivo de Excel creado a la tarea del Aula Virtual."
      ],
      "metadata": {
        "id": "kleZn0pVovTs"
      }
    },
    {
      "cell_type": "markdown",
      "source": [
        "La hoja de cálculo puede descargarse desde [el repositorio en GitHub](https://github.com/gonzaleztroyano/matematicas/blob/main/t4-grafos/CGIS.MCS.T5.8.ExcelSolver.xlsx)."
      ],
      "metadata": {
        "id": "I390wYZx3cp1"
      }
    },
    {
      "cell_type": "markdown",
      "source": [
        "## Práctica 2.3\n",
        "1. Muestre el enlace a alguna página donde se de el algoritmo de Dijkstra programado en **Python**.\n",
        "2. Pruebe su código con algún grafo de ejemplo."
      ],
      "metadata": {
        "id": "Dp_Eb4ORzqg4"
      }
    },
    {
      "cell_type": "code",
      "source": [
        "############################################################################################################\n",
        "#\n",
        "#   Obtenido de: https://www.geeksforgeeks.org/dijkstras-shortest-path-algorithm-greedy-algo-7/\n",
        "#\n",
        "############################################################################################################\n",
        "# Python program for Dijkstra's single\n",
        "# source shortest path algorithm. The program is\n",
        "# for adjacency matrix representation of the graph\n",
        "class Graph():\n",
        "\n",
        "\tdef __init__(self, vertices):\n",
        "\t\tself.V = vertices\n",
        "\t\tself.graph = [[0 for column in range(vertices)]\n",
        "\t\t\t\t\tfor row in range(vertices)]\n",
        "\n",
        "\tdef printSolution(self, dist):\n",
        "\t\tprint(\"Vertex \\t Distance from Source\")\n",
        "\t\tfor node in range(self.V):\n",
        "\t\t\tprint(node, \"\\t\\t\", dist[node])\n",
        "\n",
        "\t# A utility function to find the vertex with\n",
        "\t# minimum distance value, from the set of vertices\n",
        "\t# not yet included in shortest path tree\n",
        "\tdef minDistance(self, dist, sptSet):\n",
        "\n",
        "\t\t# Initialize minimum distance for next node\n",
        "\t\tmin = 1e7\n",
        "\n",
        "\t\t# Search not nearest vertex not in the\n",
        "\t\t# shortest path tree\n",
        "\t\tfor v in range(self.V):\n",
        "\t\t\tif dist[v] < min and sptSet[v] == False:\n",
        "\t\t\t\tmin = dist[v]\n",
        "\t\t\t\tmin_index = v\n",
        "\n",
        "\t\treturn min_index\n",
        "\n",
        "\t# Function that implements Dijkstra's single source\n",
        "\t# shortest path algorithm for a graph represented\n",
        "\t# using adjacency matrix representation\n",
        "\tdef dijkstra(self, src):\n",
        "\n",
        "\t\tdist = [1e7] * self.V\n",
        "\t\tdist[src] = 0\n",
        "\t\tsptSet = [False] * self.V\n",
        "\n",
        "\t\tfor cout in range(self.V):\n",
        "\n",
        "\t\t\t# Pick the minimum distance vertex from\n",
        "\t\t\t# the set of vertices not yet processed.\n",
        "\t\t\t# u is always equal to src in first iteration\n",
        "\t\t\tu = self.minDistance(dist, sptSet)\n",
        "\n",
        "\t\t\t# Put the minimum distance vertex in the\n",
        "\t\t\t# shortest path tree\n",
        "\t\t\tsptSet[u] = True\n",
        "\n",
        "\t\t\t# Update dist value of the adjacent vertices\n",
        "\t\t\t# of the picked vertex only if the current\n",
        "\t\t\t# distance is greater than new distance and\n",
        "\t\t\t# the vertex in not in the shortest path tree\n",
        "\t\t\tfor v in range(self.V):\n",
        "\t\t\t\tif (self.graph[u][v] > 0 and\n",
        "\t\t\t\tsptSet[v] == False and\n",
        "\t\t\t\tdist[v] > dist[u] + self.graph[u][v]):\n",
        "\t\t\t\t\tdist[v] = dist[u] + self.graph[u][v]\n",
        "\n",
        "\t\tself.printSolution(dist)\n",
        "\n",
        "# Driver program\n",
        "g = Graph(7)\n",
        "g.graph = [\n",
        "\t\t#      1  2  3  4  5  6  7 \n",
        "\t\t    \t[0, 3, 0, 4, 0, 0, 0], # 1\n",
        "\t\t\t\t\t[3, 0, 1, 0, 3, 0, 0], # 2 \n",
        "\t\t\t\t\t[0, 1, 0, 2, 2, 2, 0], # 3\n",
        "\t\t\t\t\t[4, 0, 2, 0, 0, 0, 0], # 4\n",
        "\t\t\t\t\t[0, 3, 2, 0, 0, 0, 5], # 5 \n",
        "\t\t\t\t\t[0, 0, 2, 0, 0, 0, 2], # 6 \n",
        "\t\t\t\t\t[0, 0, 0, 0, 5, 2, 0]  # 7\n",
        "\t\t\t\t]\n",
        "\n",
        "g.dijkstra(0)\n",
        "\n",
        "# This code is contributed by Divyanshu Mehta\n"
      ],
      "metadata": {
        "colab": {
          "base_uri": "https://localhost:8080/"
        },
        "cellView": "code",
        "id": "YW2U9LxGokK9",
        "outputId": "a5eb0539-c228-49dd-f085-881fcdf2ae38"
      },
      "execution_count": null,
      "outputs": [
        {
          "output_type": "stream",
          "name": "stdout",
          "text": [
            "Vertex \t Distance from Source\n",
            "0 \t\t 0\n",
            "1 \t\t 3\n",
            "2 \t\t 4\n",
            "3 \t\t 4\n",
            "4 \t\t 6\n",
            "5 \t\t 6\n",
            "6 \t\t 8\n"
          ]
        }
      ]
    },
    {
      "cell_type": "markdown",
      "source": [
        "Con la ejecución anterior se comprueba que en el gráfico de ejemplo mostrado en el anterior apartado está correctamente resuelto. La distancia hasta el vértice 7 (Vertex#6 en el resultado al empezar en 0 el array) es de 8."
      ],
      "metadata": {
        "id": "5sUthML1rFPz"
      }
    },
    {
      "cell_type": "markdown",
      "source": [
        "## Práctica 2.4"
      ],
      "metadata": {
        "id": "r8s1WapAnHlw"
      }
    },
    {
      "cell_type": "markdown",
      "source": [
        "* Dibuja un grafo que tenga un mínimo de 6 nodos\n",
        "* Crea en **Python** su **matriz de adyacencia**\n",
        "* Crea en Python su **lista de adyacencia**\n",
        "* ¿Son cero todos los elementos de la diagonal principal?\n",
        " - En qué caso serían todos cero y en qué caso no.\n",
        "* ¿Es una matriz simétrica?\n",
        " - En qué caso sería simétrica y en qué caso no.\n",
        "* Usando Python, calcula el máximo de cada fila y el mínimo positivo de cada fila\n",
        " - ¿Qué significa ese mínimo positivo de cada fila?\n",
        "* Suma todos los valores de la matriz\n",
        "* Comprueba si funcionan bien o no los siguientes códigos:\n",
        " - El primero permite convertir una matriz de adyacencia en una lista de adyacencia.\n",
        " - El segundo permite convertir una lista de adyacencia en una matriz de adyacencia.\n",
        "* Dibuja el grafo del ejemplo que se usa en este código."
      ],
      "metadata": {
        "id": "-gHteeqzsLvA"
      }
    },
    {
      "cell_type": "markdown",
      "source": [
        " * Grafo propuesto:\n",
        "\n",
        " ![Grafo propuesto](https://github.com/gonzaleztroyano/matematicas/raw/main/t4-grafos/CGIS.MCS.T4.9.Diagram4.png)\n",
        "\n",
        "\n"
      ],
      "metadata": {
        "id": "rPOlmCKauJFl"
      }
    },
    {
      "cell_type": "markdown",
      "source": [
        "* Crea en **Python** su **matriz de adyacencia**\n",
        "* Crea en Python su **lista de adyacencia**"
      ],
      "metadata": {
        "id": "FzCKuHDeGPoD"
      }
    },
    {
      "cell_type": "code",
      "source": [
        "# Matriz de adyacencia del grafo propuesto\n",
        "# https://github.com/gonzaleztroyano/matematicas/raw/main/t4-grafos/CGIS.MCS.T4.9.Diagram4.png\n",
        "\n",
        "matriz = [\n",
        "\t\t#      1  2  3  4  5  6  7  8 \n",
        "\t\t    \t[0, 1, 1, 0, 0, 0, 0, 0], # 1\n",
        "\t\t\t\t\t[1, 0, 0, 0, 0, 1, 0, 0], # 2 \n",
        "\t\t\t\t\t[1, 0, 0, 1, 1, 0, 0, 0], # 3\n",
        "\t\t\t\t\t[0, 0, 1, 0, 0, 0, 0, 1], # 4\n",
        "\t\t\t\t\t[0, 0, 1, 0, 0, 0, 1, 1], # 5 \n",
        "\t\t\t\t\t[0, 1, 0, 0, 0, 0, 0, 1], # 6 \n",
        "\t\t\t\t\t[0, 0, 0, 0, 1, 0, 0, 0], # 7\n",
        "\t\t\t\t\t[0, 0, 0, 1, 1, 1, 0, 0]  # 8\n",
        "]\n",
        "\n",
        "lista = [[1, 2], [0, 5], [0, 3, 4], [2, 7], [2, 6, 7], [1, 7], [4], [3, 4, 5]]\n"
      ],
      "metadata": {
        "id": "zrREq3KMuXOL"
      },
      "execution_count": null,
      "outputs": []
    },
    {
      "cell_type": "markdown",
      "source": [
        " * ¿Son cero todos los elementos de la diagonal principal? En qué caso serían todos cero y en qué caso no.\n",
        "\n",
        "  ```\n",
        "  Sí, en el grafo propuesto todos los elementos de la diagonal principal son \n",
        "  ceros. Según mi entender, serán distintos de cero cuando exista una ruta hacia \n",
        "  sí mismo. Esta puede tener valor 1 (en el caso de que las rutas no tengan \n",
        "  \"coste\") o uno distintos (en  el caso de que tengan definido un coste).\n",
        "  ```\n",
        "\n",
        "  * ¿Es una matriz simétrica? En qué caso sería simétrica y en qué caso no.\n",
        "\n",
        "  ```\n",
        "Sí, la matriz resultante del grafo propuesto es una matriz simétrica. \n",
        "Esto es debido a que existe la misma distancia en ambos sentidos entre\n",
        "dos vértices. Esto es: entre 5 y 7 existe la misma distancia que entre\n",
        "7 y 5. No sería este caso si el grafo fuera dirigido, por ejemplo. \n",
        "  ```"
      ],
      "metadata": {
        "id": "Kgd2i7znGOVU"
      }
    },
    {
      "cell_type": "code",
      "source": [
        "# Se ha modificado parcialmente para que la variable sea \"matriz\"\n",
        "# y que el resultado sea guardado en la variable \"lst\" para facilitar \n",
        "# su reutilización en el siguiente cuadro de código.\n",
        "\n",
        "def convert_to_adjacency(matriz):\n",
        "    start = 0\n",
        "    res = []\n",
        "    lst = []\n",
        "    n = len(matriz)\n",
        "    for i in range(n):\n",
        "        res.append(lst*n)\n",
        "    while start < n:\n",
        "        y = matriz[start]\n",
        "        for i in range(len(y)):\n",
        "            if y[i]==1:\n",
        "                res[start].append(i)\n",
        "        start +=1\n",
        "    return res\n",
        "\n",
        "matriz = [\n",
        "\t\t#      0  1  2  3  4  5  6  7  \n",
        "\t\t    \t[0, 1, 1, 0, 0, 0, 0, 0], # 0\n",
        "\t\t\t\t\t[1, 0, 0, 0, 0, 1, 0, 0], # 1 \n",
        "\t\t\t\t\t[1, 0, 0, 1, 1, 0, 0, 0], # 2\n",
        "\t\t\t\t\t[0, 0, 1, 0, 0, 0, 0, 1], # 3\n",
        "\t\t\t\t\t[0, 0, 1, 0, 0, 0, 1, 1], # 4 \n",
        "\t\t\t\t\t[0, 1, 0, 0, 0, 0, 0, 1], # 5 \n",
        "\t\t\t\t\t[0, 0, 0, 0, 1, 0, 0, 0], # 6\n",
        "\t\t\t\t\t[0, 0, 0, 1, 1, 1, 0, 0]  # 7\n",
        "]\n",
        "\n",
        "lst = convert_to_adjacency(matriz)\n",
        "print(lst)"
      ],
      "metadata": {
        "id": "DDM1R2YzO-c-",
        "colab": {
          "base_uri": "https://localhost:8080/"
        },
        "outputId": "5f1e042e-6027-4ec8-cb3f-a8811469f8c7"
      },
      "execution_count": null,
      "outputs": [
        {
          "output_type": "stream",
          "name": "stdout",
          "text": [
            "[[1, 2], [0, 5], [0, 3, 4], [2, 7], [2, 6, 7], [1, 7], [4], [3, 4, 5]]\n"
          ]
        }
      ]
    },
    {
      "cell_type": "code",
      "source": [
        "# Se ha modificado el código para que tome la variable del \n",
        "# cuadro de código anterior en caso de estar definida. \n",
        "\n",
        "def convert_to_matrix(graph):\n",
        "    matrix =[]\n",
        "    for i in range(len(graph)): \n",
        "        matrix.append([0]*len(graph))\n",
        "        for j in graph[i]:\n",
        "            matrix[i][j]=1\n",
        "    return matrix\n",
        "\n",
        "try:\n",
        "    lst\n",
        "except NameError:\n",
        "    print(\"Variable no definida. Tomando como valor ejemplo propuesto.\")\n",
        "    lst =[[1,2,3,5,6],[0,3,6,7],[0,3],[0,1,2,4],[3,5,8],[0,4,8],[0,1],[1],[4,5]]\n",
        "else:\n",
        "    print(\"Variable definida de forma previa. Tomando este valor.\")\n",
        "\n",
        "print(convert_to_matrix(lst))"
      ],
      "metadata": {
        "id": "TcrGI9GTQ-o2",
        "colab": {
          "base_uri": "https://localhost:8080/"
        },
        "outputId": "5eeed670-67f5-427d-b4d6-493d7859c164"
      },
      "execution_count": null,
      "outputs": [
        {
          "output_type": "stream",
          "name": "stdout",
          "text": [
            "Variable definida de forma previa. Tomando este valor.\n",
            "[[0, 1, 1, 0, 0, 0, 0, 0], [1, 0, 0, 0, 0, 1, 0, 0], [1, 0, 0, 1, 1, 0, 0, 0], [0, 0, 1, 0, 0, 0, 0, 1], [0, 0, 1, 0, 0, 0, 1, 1], [0, 1, 0, 0, 0, 0, 0, 1], [0, 0, 0, 0, 1, 0, 0, 0], [0, 0, 0, 1, 1, 1, 0, 0]]\n"
          ]
        }
      ]
    },
    {
      "cell_type": "markdown",
      "source": [
        "* Usando Python, calcula el máximo de cada fila y el mínimo positivo de cada fila\n",
        " - ¿Qué significa ese mínimo positivo de cada fila?"
      ],
      "metadata": {
        "id": "pMAjfw1qIqrK"
      }
    },
    {
      "cell_type": "code",
      "source": [
        "def max_min(matriz):\n",
        "    mini = []\n",
        "    maxi = []\n",
        "    result  = []\n",
        "    n = len(matriz)-1\n",
        "    for i in range(n):\n",
        "        # print(matriz[i])\n",
        "        # print(max(matriz[i]))\n",
        "        # print(min(matriz[i]))\n",
        "        mini.append(min(matriz[i])) \n",
        "        maxi.append(max(matriz[i]))\n",
        "    result = {'max':maxi, 'min': mini}\n",
        "    return result    \n",
        "    \n",
        "\n",
        "matriz = [\n",
        "#    0  1  2  3  4  5  6  7  \n",
        "    [0, 1, 1, 0, 0, 0, 0, 0], # 0\n",
        "    [1, 0, 0, 0, 0, 1, 0, 0], # 1 \n",
        "    [1, 0, 0, 1, 1, 0, 0, 0], # 2\n",
        "    [0, 0, 1, 0, 0, 0, 0, 1], # 3\n",
        "    [0, 0, 1, 0, 0, 0, 1, 1], # 4 \n",
        "    [0, 1, 0, 0, 0, 0, 0, 1], # 5 \n",
        "    [0, 0, 0, 0, 1, 0, 0, 0], # 6\n",
        "    [0, 0, 0, 1, 1, 1, 0, 0]  # 7\n",
        "]\n",
        "\n",
        "print(max_min(matriz))"
      ],
      "metadata": {
        "colab": {
          "base_uri": "https://localhost:8080/"
        },
        "id": "EX04NhyaIzEC",
        "outputId": "60a84f62-b96c-4407-dd9a-65d7b0a44264"
      },
      "execution_count": null,
      "outputs": [
        {
          "output_type": "stream",
          "name": "stdout",
          "text": [
            "{'max': [1, 1, 1, 1, 1, 1, 1], 'min': [0, 0, 0, 0, 0, 0, 0]}\n"
          ]
        }
      ]
    },
    {
      "cell_type": "markdown",
      "source": [
        "* Suma todos los valores de la matriz"
      ],
      "metadata": {
        "id": "xDJoEoHjOGkL"
      }
    },
    {
      "cell_type": "code",
      "source": [
        "def suma(matriz):\n",
        "    suma_parc = 0\n",
        "    result  = []\n",
        "    n = len(matriz)\n",
        "    for i in range(n):\n",
        "        # print(matriz[i])\n",
        "        for j in range(n): # Matriz cuadrada\n",
        "            # print(matriz[i][j]) \n",
        "            suma_parc += matriz[i][j]\n",
        "        result.append(suma_parc)\n",
        "        suma_parc = 0\n",
        "    return result\n",
        "\n",
        "def suma_total(matriz):\n",
        "    suma_toda = 0\n",
        "    result  = []\n",
        "    n = len(matriz)\n",
        "    for i in range(n):\n",
        "        # print(matriz[i])\n",
        "        for j in range(n): # Matriz cuadrada\n",
        "            # print(matriz[i][j]) \n",
        "            suma_toda += matriz[i][j]\n",
        "    return suma_toda   \n",
        "\n",
        "matriz = [\n",
        "#    0  1  2  3  4  5  6  7  \n",
        "    [0, 1, 1, 0, 0, 0, 0, 0], # 0\n",
        "    [1, 0, 0, 0, 0, 1, 0, 0], # 1 \n",
        "    [1, 0, 0, 1, 1, 0, 0, 0], # 2\n",
        "    [0, 0, 1, 0, 0, 0, 0, 1], # 3\n",
        "    [0, 0, 1, 0, 0, 0, 1, 1], # 4 \n",
        "    [0, 1, 0, 0, 0, 0, 0, 1], # 5 \n",
        "    [0, 0, 0, 0, 1, 0, 0, 0], # 6\n",
        "    [0, 0, 0, 1, 1, 1, 0, 0]  # 7\n",
        "]\n",
        "\n",
        "print(\"=====================================\\n              FILA A FILA                    \\n=====================================\\n\")\n",
        "print(\"El resultado es una lista con el valor de la suma para cada una de las filas de la matriz. \\nDe esta forma, se puede acceder a la suma deseada mediante \\nla posición posteriormente en el código\\n\")\n",
        "res_suma = suma(matriz)\n",
        "print(res_suma)\n",
        "print(\"\\nPara la fila 2, la suma es:\", res_suma[2])\n",
        "\n",
        "print(\"\\n\\n=====================================\\n            TODA LA MATRIZ                   \\n=====================================\\n\")\n",
        "res_suma_total = suma_total(matriz)\n",
        "print(\"La suma de toda la matriz es:\",res_suma_total)\n"
      ],
      "metadata": {
        "colab": {
          "base_uri": "https://localhost:8080/"
        },
        "id": "7LgsSmEeOL0N",
        "outputId": "609a262b-bcf7-4c20-acb5-c38bd682673a"
      },
      "execution_count": null,
      "outputs": [
        {
          "output_type": "stream",
          "name": "stdout",
          "text": [
            "=====================================\n",
            "              FILA A FILA                    \n",
            "=====================================\n",
            "\n",
            "El resultado es una lista con el valor de la suma para cada una de las filas de la matriz. \n",
            "De esta forma, se puede acceder a la suma deseada mediante \n",
            "la posición posteriormente en el código\n",
            "\n",
            "[2, 2, 3, 2, 3, 2, 1, 3]\n",
            "\n",
            "Para la fila 2, la suma es: 3\n",
            "\n",
            "\n",
            "=====================================\n",
            "            TODA LA MATRIZ                   \n",
            "=====================================\n",
            "\n",
            "La suma de toda la matriz es: 18\n"
          ]
        }
      ]
    },
    {
      "cell_type": "markdown",
      "source": [
        "* Dibuja el grafo del ejemplo que se usa en este código.\n",
        "![Grafo dibujado con Draw.io](https://raw.githubusercontent.com/gonzaleztroyano/matematicas/main/t4-grafos/CGIS.MCS.T4.11.Diagram4.png)"
      ],
      "metadata": {
        "id": "uhEB7AUdOMOY"
      }
    },
    {
      "cell_type": "markdown",
      "source": [
        "## Práctica 2.5\n"
      ],
      "metadata": {
        "id": "KciKQEh-DIxH"
      }
    },
    {
      "cell_type": "markdown",
      "source": [
        "**Árboles binarios**\n",
        "* Mira este vídeo: [¿Qué son los ÁRBOLES BINARIOS y por qué son tan geniales?](https://youtu.be/lMTaNbJAqvM)\n",
        "* ¿Qué son los **árboles binarios de búsqueda**? (en inglés: BST (Binary Search Tree))\n",
        "* Mira este vídeo: [Recorrido de Árboles Binarios](https://youtu.be/WCiwBrj8EQY)\n",
        "* Qué significa recorrer el árbol en:\n",
        " - preorden\n",
        " ```\n",
        " Recorrer un árbol binario en preorden consiste en, nodo a nodo, ordenarlos de la siguiente forma: \n",
        " Raíz, Izquierda, Derecha. \n",
        " ```\n",
        " - inorden\n",
        " ```\n",
        " Recorrer un árbol binario en preorden consiste en, nodo a nodo, ordenarlos de la siguiente forma: \n",
        " Izquierda, Raíz, Derecha\n",
        " En esencia, ordena de menor a mayor.\n",
        " ```\n",
        " - postorden\n",
        " ```\n",
        "  Recorrer un árbol binario en preorden consiste en, nodo a nodo, ordenarlos de la siguiente forma: \n",
        "  Izquierda, Derecha, Raíz. \n",
        " ```\n",
        "* Al BST del vídeo anterior añadele dos nodos de tu elección, de forma que continúe siendo un BST, dibujalo (poniendo en color azul claro los dos nodos nuevos) y da su recorrido en:\n",
        "\n",
        "    ![BST con dos nodos añadidos](https://raw.githubusercontent.com/gonzaleztroyano/matematicas/main/t4-grafos/CGIS.MCS.T4.12.Diagram5.png)\n",
        "\n",
        " - preorden\n",
        " ```\n",
        " 30, 15, 11, 2, 0, 1, 5, 7, 6, 8, 13. 21, 17, 16, 19, 26, 29, 35, 31, 34, 40, 50, 42, 41, 45, 60, 75\n",
        " ```\n",
        " - inorden (observa que en este caso los nodos deben quedar ordenados de menor a mayor)\n",
        " ```\n",
        " 0. 1, 2, 5, 6, 7, 8, 11, 13, 15, 16, 17, 19, 21, 26, 29, 30, 31, 34, 35, 40, 41, 42, 45, 50, 60, 75\n",
        " ```\n",
        " - postorden\n",
        " ```\n",
        "1, 0, 6, 8, 7, 5, 2, 13, 11, 16, 19, 17, 29, 26, 21, 15, 34, 31, 41, 45, 42, 75, 60, 50, 40, 35\n",
        " ```\n",
        "* ¿Por qué los BST son importantes en ciencias de la computación?\n",
        "```\n",
        "Los BST son muy importantes en ciencias de la computación puesto que permiten una búsqueda mucho más eficiente de los datos. \n",
        "Tal y como muestra el ejemplo del primer vídeo, con tan solo 144 elementos (nada comparado con las posibles aplicaciones \n",
        "realaes en el día a día), la ordenación con otros métodos se convierte en operación muy costosa en ciclos por las \n",
        "iteraciones y comparaciones, que se deben de hacer.\n",
        "```\n",
        "* Pon un link a una página o vídeo que trate este tema en **Python**.\n",
        "* ¿Has probado el código en Python que comentas? ¿Funciona con el BST que has puesto como ejemplo?"
      ],
      "metadata": {
        "id": "0rPsutABZKQP"
      }
    },
    {
      "cell_type": "code",
      "source": [
        "class BSTNode:\n",
        "    def __init__(self, val=None):\n",
        "        self.left = None\n",
        "        self.right = None\n",
        "        self.val = val\n",
        "\n",
        "    def insert(self, val):\n",
        "        if not self.val:\n",
        "            self.val = val\n",
        "            return\n",
        "\n",
        "        if self.val == val:\n",
        "            return\n",
        "\n",
        "        if val < self.val:\n",
        "            if self.left:\n",
        "                self.left.insert(val)\n",
        "                return\n",
        "            self.left = BSTNode(val)\n",
        "            return\n",
        "\n",
        "        if self.right:\n",
        "            self.right.insert(val)\n",
        "            return\n",
        "        self.right = BSTNode(val)\n",
        "\n",
        "    def get_min(self):\n",
        "        current = self\n",
        "        while current.left is not None:\n",
        "            current = current.left\n",
        "        return current.val\n",
        "\n",
        "    def get_max(self):\n",
        "        current = self\n",
        "        while current.right is not None:\n",
        "            current = current.right\n",
        "        return current.val\n",
        "\n",
        "    def delete(self, val):\n",
        "        if self == None:\n",
        "            return self\n",
        "        if val < self.val:\n",
        "            if self.left:\n",
        "                self.left = self.left.delete(val)\n",
        "            return self\n",
        "        if val > self.val:\n",
        "            if self.right:\n",
        "                self.right = self.right.delete(val)\n",
        "            return self\n",
        "        if self.right == None:\n",
        "            return self.left\n",
        "        if self.left == None:\n",
        "            return self.right\n",
        "        min_larger_node = self.right\n",
        "        while min_larger_node.left:\n",
        "            min_larger_node = min_larger_node.left\n",
        "        self.val = min_larger_node.val\n",
        "        self.right = self.right.delete(min_larger_node.val)\n",
        "        return self\n",
        "\n",
        "    def exists(self, val):\n",
        "        if val == self.val:\n",
        "            return True\n",
        "\n",
        "        if val < self.val:\n",
        "            if self.left == None:\n",
        "                return False\n",
        "            return self.left.exists(val)\n",
        "\n",
        "        if self.right == None:\n",
        "            return False\n",
        "        return self.right.exists(val)\n",
        "\n",
        "    def preorder(self, vals):\n",
        "        if self.val is not None:\n",
        "            vals.append(self.val)\n",
        "        if self.left is not None:\n",
        "            self.left.preorder(vals)\n",
        "        if self.right is not None:\n",
        "            self.right.preorder(vals)\n",
        "        return vals\n",
        "\n",
        "    def inorder(self, vals):\n",
        "        if self.left is not None:\n",
        "            self.left.inorder(vals)\n",
        "        if self.val is not None:\n",
        "            vals.append(self.val)\n",
        "        if self.right is not None:\n",
        "            self.right.inorder(vals)\n",
        "        return vals\n",
        "\n",
        "    def postorder(self, vals):\n",
        "        if self.left is not None:\n",
        "            self.left.postorder(vals)\n",
        "        if self.right is not None:\n",
        "            self.right.postorder(vals)\n",
        "        if self.val is not None:\n",
        "            vals.append(self.val)\n",
        "        return vals\n",
        "\n",
        "def main():\n",
        "    nums = [12, 6, 18, 19, 21, 11, 3, 5, 4, 24, 18]\n",
        "    bst = BSTNode()\n",
        "    for num in nums:\n",
        "        bst.insert(num)\n",
        "    print(\"preorder:\")\n",
        "    print(bst.preorder([]))\n",
        "    print(\"#\")\n",
        "\n",
        "    print(\"postorder:\")\n",
        "    print(bst.postorder([]))\n",
        "    print(\"#\")\n",
        "\n",
        "    print(\"inorder:\")\n",
        "    print(bst.inorder([]))\n",
        "    print(\"#\")\n",
        "\n",
        "    nums = [2, 6, 20]\n",
        "    print(\"deleting \" + str(nums))\n",
        "    for num in nums:\n",
        "        bst.delete(num)\n",
        "    print(\"#\")\n",
        "\n",
        "    print(\"4 exists:\")\n",
        "    print(bst.exists(4))\n",
        "    print(\"2 exists:\")\n",
        "    print(bst.exists(2))\n",
        "    print(\"12 exists:\")\n",
        "    print(bst.exists(12))\n",
        "    print(\"18 exists:\")\n",
        "    print(bst.exists(18))\n",
        "main()"
      ],
      "metadata": {
        "colab": {
          "base_uri": "https://localhost:8080/"
        },
        "id": "QtIiYUrKoVA3",
        "outputId": "87346d3b-4da0-4bf8-a948-4b670466ec04"
      },
      "execution_count": null,
      "outputs": [
        {
          "output_type": "stream",
          "name": "stdout",
          "text": [
            "preorder:\n",
            "[12, 6, 3, 5, 4, 11, 18, 19, 21, 24]\n",
            "#\n",
            "postorder:\n",
            "[4, 5, 3, 11, 6, 24, 21, 19, 18, 12]\n",
            "#\n",
            "inorder:\n",
            "[3, 4, 5, 6, 11, 12, 18, 19, 21, 24]\n",
            "#\n",
            "deleting [2, 6, 20]\n",
            "#\n",
            "4 exists:\n",
            "True\n",
            "2 exists:\n",
            "False\n",
            "12 exists:\n",
            "True\n",
            "18 exists:\n",
            "True\n"
          ]
        }
      ]
    },
    {
      "cell_type": "markdown",
      "source": [
        "## Práctica 2.6\n"
      ],
      "metadata": {
        "id": "Chf7cUkfaR9O"
      }
    },
    {
      "cell_type": "markdown",
      "source": [
        "* ¿Qué es un **camino hamiltoniano**?\n",
        "```\n",
        "Un camino hamiltoniano, es un camino que visita todos los vértices del grafo en estudio una única vez. \n",
        "```\n",
        "* Pon un ejemplo\n",
        "* Dibújalo\n",
        "* Resulevelo\n",
        "\n",
        "![Camino Hamiltoniano Propuesto](https://raw.githubusercontent.com/gonzaleztroyano/matematicas/main/t4-grafos/CGIS.MCS.T4.13.Diagram6.png)\n",
        "* ¿Qué utilidad tiene?\n",
        "```\n",
        "Encontrar caminos hamiltonianos en grafos es útil cuando exportamos a la vida real lo encontrado. \n",
        "Por ejemplo, un grafo puede consistir en vértices que simbolicen las paradas \n",
        "que un/una repartidor/a debe realizar, siendo las aristas las carreteras y\n",
        "vías que comunican los distintos puntos. De esta manera es posible definir un \n",
        "camino que conecte todas. Esto es, generalmente lo que hacen aplicaciones de\n",
        "navegación, aunque mucho más complejo que este ejemplo, claro. \n",
        "```\n",
        "* Muestra los enlaces a par de vídeos que hablen de ello\n",
        "  * https://www.youtube.com/watch?v=2UczS2hQLsI\n",
        "  * https://www.youtube.com/watch?v=6QFSkhcHLiA\n",
        "  * https://www.youtube.com/watch?v=LcL-tO2TMlY\n",
        "  * https://www.youtube.com/watch?v=uWqp8rqY4Fs\n",
        "  * https://www.youtube.com/watch?v=ueE7IAfLmqk"
      ],
      "metadata": {
        "id": "s0E2HGkNKlqC"
      }
    },
    {
      "cell_type": "markdown",
      "source": [
        "## Práctica 2.7\n"
      ],
      "metadata": {
        "id": "vJ9XxUVKcpys"
      }
    },
    {
      "cell_type": "markdown",
      "source": [
        "* Mira este vídeo:\n",
        " - [Un problema matemático de ciudades y carreteras](https://youtu.be/kwU1uIbylsM)\n",
        "* Dibuja el grafo y da tu solución\n",
        "\n",
        "![Grafo propuesto](https://raw.githubusercontent.com/gonzaleztroyano/matematicas/main/t4-grafos/CGIS.MCS.T4.14.Diagram7.png)\n",
        "\n",
        "```\n",
        "Tal y como se puede ver en la imagen anterior, habiendo coloreado el grafo obtenemos 6 vértices amarillos \n",
        "y 5 vértices rojos. Por tanto, siempre nos quedarán descolgados. \n",
        "```"
      ],
      "metadata": {
        "id": "rwi7UvhPRwBV"
      }
    },
    {
      "cell_type": "markdown",
      "source": [
        "## Práctica 2.8\n"
      ],
      "metadata": {
        "id": "mWSmp60VaQRp"
      }
    },
    {
      "cell_type": "markdown",
      "source": [
        "* El problema de **los puentes de Königsberg**\n",
        "* Describe el problema\n",
        " ```\n",
        " El problema toma su nombre de la ciudad homónima, actualmente la ciudad rusa de Kaliningrado. \n",
        " El problema radicaba en encontrar un camino para cruzar los siete puentes que tenía, sin repetir ninguno \n",
        " y volviendo al mismo punto de origen. \n",
        " ```\n",
        "* Muestra una imagen del grafo resultante\n",
        "\n",
        "![Imagen del grafo resultante obtenida de Wikipedia](https://upload.wikimedia.org/wikipedia/commons/thumb/9/96/K%C3%B6nigsberg_graph.svg/1024px-K%C3%B6nigsberg_graph.svg.png)\n",
        "* Quién fue *Euler* y qué hizo para resolver el problema.\n",
        "```\n",
        "Euler fue el matemático que resolvió el problema. Afirmó que \"los puntos intermedios de un recorrido posible \n",
        "necesariamente han de estar conectados a un número par de líneas\" y \"no podría existir ningún punto conectado con \n",
        "un número impar de líneas.\"\n",
        "Obtenido de Wikipedia. Disponible en: https://es.wikipedia.org/wiki/Problema_de_los_puentes_de_K%C3%B6nigsberg#Soluci%C3%B3n_de_Euler\n",
        "```"
      ],
      "metadata": {
        "id": "d1eMUUgZeX6H"
      }
    },
    {
      "cell_type": "markdown",
      "source": [
        "## Práctica 2.9\n"
      ],
      "metadata": {
        "id": "_jPsX_8vhGkL"
      }
    },
    {
      "cell_type": "markdown",
      "source": [
        "* ¿Qué son los **caminos eulerianos**?\n",
        "```\n",
        "Un camino euleriano es un camino que pasa por cada arista una y solo una vez. \n",
        "```\n",
        "[Fuente](https://es.wikipedia.org/wiki/Ciclo_euleriano)\n",
        "* ¿Qué son los **ciclos eulerianos**?\n",
        "```\n",
        "Un ciclo o circuito euleriano es un camino cerrado que recorre cada arista exactamente una vez. \n",
        "```\n",
        "[Fuente](https://es.wikipedia.org/wiki/Ciclo_euleriano)\n",
        "* Da los enlaces a dos vídeos que hable de ello\n",
        " * https://www.youtube.com/watch?v=zbOUAsoUoPg\n",
        " * https://www.youtube.com/watch?v=TEzSB1h4bHc0\n",
        "\n",
        "* Dibuja un par de casos\n",
        "\n",
        "![Ejemplo 1 - Camino Euleriano](https://raw.githubusercontent.com/gonzaleztroyano/matematicas/main/t4-grafos/CGIS.MCS.T4.15.Diagram9.png)\n",
        "\n",
        "---\n",
        "\n",
        "![Ejemplo 2 - Ciclo Euleriano](https://raw.githubusercontent.com/gonzaleztroyano/matematicas/main/t4-grafos/CGIS.MCS.T4.16.Diagram9.png)"
      ],
      "metadata": {
        "id": "f9AlinyuWStA"
      }
    },
    {
      "cell_type": "markdown",
      "source": [
        "## Práctica 2.10\n",
        "* Mira estos vídeos:\n",
        " - [¿Puedes dibujarlo sin despegar el lápiz?](https://youtu.be/IZ0-xFrlvag)\n",
        " - [USA esta LÓGICA cuando NO PUEDAS con un PROBLEMA](https://youtu.be/5Ncb7eU0LkQ)\n",
        "* Caso 1: dibuja un grafo en el que si sea posible y resuélvelo\n",
        "* Caso 2: dibuja un grafo en el que no sea posible y di el motivo\n",
        "\n",
        "Se adjuntan a continuación los grafos propuestos. El que no se puede resolver es debido a la regla que definió Euler sobre la necesidad de que todos los vértices sean de grado par para denominar el grado Euleriano. Y la necesidad de que dos, y solo dos vértices son de grado impar y el resto de grado par se considere semieuleriano. \n",
        "\n",
        "![Ejemplos propuestos](https://raw.githubusercontent.com/gonzaleztroyano/matematicas/main/t4-grafos/CGIS.MCS.T4.17.Diagram10.png)"
      ],
      "metadata": {
        "id": "4wcsNU_-kQM-"
      }
    }
  ]
}